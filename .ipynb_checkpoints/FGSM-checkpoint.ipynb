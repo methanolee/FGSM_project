{
 "cells": [
  {
   "cell_type": "code",
   "execution_count": null,
   "metadata": {},
   "outputs": [],
   "source": [
    "# requirments\n",
    "import numpy as np\n",
    "import json\n",
    "\n",
    "import torch\n",
    "import torch.nn as nn\n",
    "import torch.optim as optim\n",
    "import torch.utils.data as Data\n",
    "\n",
    "import torchvision.utils\n",
    "from torchvision import models\n",
    "\n",
    "import torchvision.datasets as dsets\n",
    "import torchvision.transforms as transforms\n",
    "\n",
    "import matplotlib.pyplot as plt\n",
    "%matplotlib inline"
   ]
  },
  {
   "cell_type": "code",
   "execution_count": null,
   "metadata": {},
   "outputs": [],
   "source": [
    "def image_folder_custom_label(root, transform, custom_label) :\n",
    "    \n",
    "    # custom_label\n",
    "    # type : List\n",
    "    # index -> label\n",
    "    # ex) ['tench', 'goldfish', 'great_white_shark', 'tiger_shark']\n",
    "    \n",
    "    old_data = dsets.ImageFolder(root = root, transform = transform)\n",
    "    old_classes = old_data.classes\n",
    "    \n",
    "    label2idx = {}\n",
    "    \n",
    "    for i, item in enumerate(idx2label) :\n",
    "        label2idx[item] = i\n",
    "    \n",
    "    new_data = dsets.ImageFolder(root = root, transform = transform, \n",
    "                                 target_transform = lambda x : custom_label.index(old_classes[x]))\n",
    "    new_data.classes = idx2label\n",
    "    new_data.class_to_idx = label2idx\n",
    "\n",
    "    return new_data\n",
    "\n",
    "def imshow(img, title): # visualize the image\n",
    "    npimg = img.numpy()\n",
    "    fig = plt.figure(figsize = (5, 15))\n",
    "    plt.imshow(np.transpose(npimg,(1,2,0)))\n",
    "    plt.title(title)\n",
    "    plt.show()"
   ]
  },
  {
   "cell_type": "code",
   "execution_count": null,
   "metadata": {},
   "outputs": [],
   "source": [
    "# prepare data\n",
    "# https://s3.amazonaws.com/deep-learning-models/image-models/imagenet_class_index.json\n",
    "class_idx = json.load(open(\"./data/imagenet_class_index.json\"))\n",
    "idx2label = [class_idx[str(k)][1] for k in range(len(class_idx))]\n",
    "transform = transforms.Compose([\n",
    "    transforms.Resize((299, 299)),\n",
    "    transforms.ToTensor(), # ToTensor : [0, 255] -> [0, 1]\n",
    "])\n",
    "\n",
    "normal_data = image_folder_custom_label(root = './data/', transform = transform, custom_label = idx2label)\n",
    "normal_loader = Data.DataLoader(normal_data, batch_size=1, shuffle=False)\n",
    "normal_iter = iter(normal_loader)\n",
    "images, labels = normal_iter.next()"
   ]
  },
  {
   "cell_type": "code",
   "execution_count": null,
   "metadata": {},
   "outputs": [],
   "source": [
    "# download the target model, inception_v3 \n",
    "use_cuda = False # False: cpu;   True: gpu\n",
    "device = torch.device(\"cuda\" if use_cuda else \"cpu\")\n",
    "model = models.inception_v3(pretrained=True).to(device)"
   ]
  },
  {
   "cell_type": "code",
   "execution_count": null,
   "metadata": {},
   "outputs": [],
   "source": [
    "# detect the images\n",
    "model.eval()\n",
    "for images, labels in normal_loader:   \n",
    "    images = images.to(device)\n",
    "    labels = labels.to(device) # true label\n",
    "    print('labels: ', labels)\n",
    "    outputs = model(images) \n",
    "    _, pre = torch.max(outputs.data, 1)\n",
    "    print('pre: ', pre) # prediction  \n",
    "    imshow(torchvision.utils.make_grid(images.cpu().data, normalize=True), [normal_data.classes[i] for i in pre])"
   ]
  },
  {
   "cell_type": "code",
   "execution_count": null,
   "metadata": {},
   "outputs": [],
   "source": [
    "# FGSM: (a) targeted; (b) non-targeted; (c) i-FGSM"
   ]
  }
 ],
 "metadata": {
  "kernelspec": {
   "display_name": "Python 3",
   "language": "python",
   "name": "python3"
  },
  "language_info": {
   "codemirror_mode": {
    "name": "ipython",
    "version": 3
   },
   "file_extension": ".py",
   "mimetype": "text/x-python",
   "name": "python",
   "nbconvert_exporter": "python",
   "pygments_lexer": "ipython3",
   "version": "3.5.6"
  },
  "varInspector": {
   "cols": {
    "lenName": 16,
    "lenType": 16,
    "lenVar": 40
   },
   "kernels_config": {
    "python": {
     "delete_cmd_postfix": "",
     "delete_cmd_prefix": "del ",
     "library": "var_list.py",
     "varRefreshCmd": "print(var_dic_list())"
    },
    "r": {
     "delete_cmd_postfix": ") ",
     "delete_cmd_prefix": "rm(",
     "library": "var_list.r",
     "varRefreshCmd": "cat(var_dic_list()) "
    }
   },
   "types_to_exclude": [
    "module",
    "function",
    "builtin_function_or_method",
    "instance",
    "_Feature"
   ],
   "window_display": false
  }
 },
 "nbformat": 4,
 "nbformat_minor": 2
}
